{
 "cells": [
  {
   "cell_type": "markdown",
   "metadata": {},
   "source": [
    "## Test script for each module"
   ]
  },
  {
   "cell_type": "code",
   "execution_count": 1,
   "metadata": {},
   "outputs": [],
   "source": [
    "from ffmpeg_module import image_to_video\n",
    "from twitter_module import get_media_url_from_tweets, download_images\n",
    "import time"
   ]
  },
  {
   "cell_type": "code",
   "execution_count": 3,
   "metadata": {},
   "outputs": [
    {
     "name": "stdout",
     "output_type": "stream",
     "text": [
      "The number of media urls: 14\n",
      "Successfully downloaded image001.jpg...\n",
      "Successfully downloaded image002.jpg...\n",
      "Successfully downloaded image003.jpg...\n",
      "Successfully downloaded image004.jpg...\n",
      "Successfully downloaded image005.jpg...\n",
      "Successfully downloaded image006.jpg...\n",
      "Successfully downloaded image007.jpg...\n",
      "Successfully downloaded image008.jpg...\n",
      "Successfully downloaded image009.jpg...\n",
      "Successfully downloaded image010.jpg...\n",
      "Successfully downloaded image011.jpg...\n",
      "Successfully downloaded image012.jpg...\n",
      "Successfully downloaded image013.jpg...\n",
      "Successfully downloaded image014.jpg...\n"
     ]
    }
   ],
   "source": [
    "media_files = get_media_url_from_tweets(\"@Ibra_official\")\n",
    "time.sleep(2)\n",
    "download_images(media_files, len(media_files))"
   ]
  },
  {
   "cell_type": "code",
   "execution_count": 4,
   "metadata": {},
   "outputs": [
    {
     "name": "stdout",
     "output_type": "stream",
     "text": [
      "images:\n",
      "b'image001.jpg\\nimage002.jpg\\nimage003.jpg\\nimage004.jpg\\nimage005.jpg\\nimage006.jpg\\nimage007.jpg\\nimage008.jpg\\nimage009.jpg\\nimage010.jpg\\nimage011.jpg\\nimage012.jpg\\nimage013.jpg\\nimage014.jpg\\n'\n",
      "Video successfully saved.\n"
     ]
    }
   ],
   "source": [
    "image_to_video('v.avi')"
   ]
  },
  {
   "cell_type": "code",
   "execution_count": null,
   "metadata": {},
   "outputs": [],
   "source": []
  }
 ],
 "metadata": {
  "kernelspec": {
   "display_name": "Python 3",
   "language": "python",
   "name": "python3"
  },
  "language_info": {
   "codemirror_mode": {
    "name": "ipython",
    "version": 3
   },
   "file_extension": ".py",
   "mimetype": "text/x-python",
   "name": "python",
   "nbconvert_exporter": "python",
   "pygments_lexer": "ipython3",
   "version": "3.6.5"
  }
 },
 "nbformat": 4,
 "nbformat_minor": 2
}
