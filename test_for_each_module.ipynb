{
 "cells": [
  {
   "cell_type": "code",
   "execution_count": 1,
   "metadata": {},
   "outputs": [],
   "source": [
    "import subprocess\n",
    "import os"
   ]
  },
  {
   "cell_type": "code",
   "execution_count": 2,
   "metadata": {},
   "outputs": [],
   "source": [
    "class ffmpeg:\n",
    "    \n",
    "    def image_to_video(self, video_name):\n",
    "        \"\"\"\n",
    "        convert a set of images to video\n",
    "        \"\"\"\n",
    "        current_path = os.getcwd()\n",
    "        os.chdir(current_path + '/images')\n",
    "        print('images:')\n",
    "        print(subprocess.check_output(['ls']))\n",
    "        subprocess.call(['ffmpeg', '-framerate', '0.5', '-i', 'image%03d.jpg', video_name])\n",
    "        print('Video successfully saved.')"
   ]
  },
  {
   "cell_type": "code",
   "execution_count": 4,
   "metadata": {},
   "outputs": [
    {
     "name": "stdout",
     "output_type": "stream",
     "text": [
      "images:\n",
      "b'image002.jpg\\nimage003.jpg\\nimage004.jpg\\nimage005.jpg\\n'\n",
      "video saved.\n"
     ]
    }
   ],
   "source": [
    "v = ffmpeg()\n",
    "v.image_to_video('v.avi')"
   ]
  },
  {
   "cell_type": "code",
   "execution_count": null,
   "metadata": {},
   "outputs": [],
   "source": []
  }
 ],
 "metadata": {
  "kernelspec": {
   "display_name": "Python 3",
   "language": "python",
   "name": "python3"
  },
  "language_info": {
   "codemirror_mode": {
    "name": "ipython",
    "version": 3
   },
   "file_extension": ".py",
   "mimetype": "text/x-python",
   "name": "python",
   "nbconvert_exporter": "python",
   "pygments_lexer": "ipython3",
   "version": "3.6.5"
  }
 },
 "nbformat": 4,
 "nbformat_minor": 2
}
